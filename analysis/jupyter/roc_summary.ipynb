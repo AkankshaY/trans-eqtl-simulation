{
 "cells": [
  {
   "cell_type": "code",
   "execution_count": null,
   "metadata": {},
   "outputs": [],
   "source": [
    "import os\n",
    "import numpy as np\n",
    "import collections\n",
    "from statsmodels.stats import multitest\n",
    "import sys\n",
    "sys.path.append('../../scripts/')\n",
    "sys.path.append('../utils/')\n",
    "\n",
    "import matplotlib.pyplot as plt\n",
    "import mpl_stylesheet\n",
    "mpl_stylesheet.banskt_presentation(fontfamily = 'system', colors='banskt')\n",
    "\n",
    "import load_results\n",
    "import precision_recall_scores as roc\n",
    "\n",
    "INFO_FIELDS = ['rsid', 'stat', 'causality']\n",
    "class ValidateResult(collections.namedtuple('_ValidateResult', INFO_FIELDS)):\n",
    "    __slots__ = ()"
   ]
  },
  {
   "cell_type": "code",
   "execution_count": null,
   "metadata": {},
   "outputs": [],
   "source": [
    "whichplot = ['matrixeqtl', 'tejaas_rrn']"
   ]
  },
  {
   "cell_type": "code",
   "execution_count": null,
   "metadata": {},
   "outputs": [],
   "source": [
    "#srcdir = \"/scratch/sbanerj/trans-eqtl/simulation/4000_450_20_800_30_150_100_0.01_0.5_0.0_0.1_0.6_4.0_0.1_20_0.02/\"\n",
    "srcdir = \"/scratch/sbanerj/trans-eqtl/simulation/15158_450_20_800_30_150_100_0.01_0.0_0.0_1.0_0.6_4.0_0.1_20_0.02/\"\n",
    "perm_sbeta = \"0.01\"\n",
    "simlist = list(range(10))\n",
    "# simlist = [0, 1, 2, 3, 4, 5, 7, 8, 9, 10, 11, 12, 13, 14, 15, 16, 17, 18, 19]\n",
    "# simlist = list(range(5))\n",
    "\n",
    "def read_data(key, filename, truth):\n",
    "    valres = list()\n",
    "    if key == 'jpa':\n",
    "        for key, value in load_results.jpa_scores(filename).items():\n",
    "            caus = 1 if key in truth else 0\n",
    "            valres.append(ValidateResult(rsid = key, stat = value, causality = caus))\n",
    "    if key == 'meqtl':\n",
    "        for key, value in load_results.matrixeqtl_fdr(filename).items():\n",
    "            caus = 1 if key in truth else 0\n",
    "            valres.append(ValidateResult(rsid = key, stat = value, causality = caus))\n",
    "    if key == 'rr':\n",
    "        for key, value in load_results.tejaas(filename).items():\n",
    "            caus = 1 if key in truth else 0\n",
    "            valres.append(ValidateResult(rsid = key, stat = value, causality = caus))\n",
    "    return valres\n",
    "\n",
    "\n",
    "rdata = dict()\n",
    "for key in whichplot:\n",
    "    rdata[key] = [None for x in simlist]\n",
    "\n",
    "for i, simidx in enumerate(simlist):\n",
    "    simdir = \"sim{:03d}\".format(simidx)\n",
    "    sim_trans_file  = os.path.join(srcdir, simdir, \"input/expression.trans\")\n",
    "    sim_cis_file    = os.path.join(srcdir, simdir, \"input/expression.cis\")\n",
    "    rr_outfile      = os.path.join(srcdir, simdir, \"tejaas/permnull_sb{:s}/rr.txt\".format(perm_sbeta))\n",
    "    rr_randfile     = os.path.join(srcdir, simdir, \"tejaas_rand/permnull_sb{:s}/rr.txt\".format(perm_sbeta))\n",
    "    meqtl_outfile   = os.path.join(srcdir, simdir, \"matrixeqtl/trans_eqtl.txt\")\n",
    "    meqtl_randfile  = os.path.join(srcdir, simdir, \"matrixeqtl_rand/trans_eqtl.txt\")\n",
    "    jpa_outfile     = os.path.join(srcdir, simdir, \"tejaas/jpa/all_jpa_pvals.txt\")\n",
    "    jpa_randfile    = os.path.join(srcdir, simdir, \"tejaas_rand/jpa/all_jpa_pvals.txt\")\n",
    "    \n",
    "    true_trans = list()\n",
    "    with open(sim_trans_file, 'r') as fin:\n",
    "        for line in (fin):\n",
    "            linesplit = line.strip().split()\n",
    "            true_trans.append(linesplit[1])\n",
    "\n",
    "    if 'tejaas_jpa' in whichplot: rdata['tejaas_jpa'][i] = read_data('jpa', jpa_outfile, true_trans)\n",
    "    if 'matrixeqtl' in whichplot: rdata['matrixeqtl'][i] = read_data('meqtl', meqtl_outfile, true_trans)\n",
    "    if 'tejaas_rrn' in whichplot: rdata['tejaas_rrn'][i] = read_data('rr', rr_outfile, true_trans)\n",
    "    if 'random_jpa' in whichplot: rdata['random_jpa'][i] = read_data('jpa', jpa_randfile, true_trans)\n",
    "    if 'rand_meqtl' in whichplot: rdata['rand_meqtl'][i] = read_data('meqtl', meqtl_randfile, true_trans)\n",
    "    if 'random_rrn' in whichplot: rdata['random_rrn'][i] = read_data('rr', rr_randfile, true_trans)"
   ]
  },
  {
   "cell_type": "code",
   "execution_count": null,
   "metadata": {},
   "outputs": [],
   "source": [
    "def get_plotvals(res):\n",
    "    nsim = len(res)\n",
    "    #print(\"Number of simulations: {:d}\".format(nsim))\n",
    "    nsel   = [None for x in range(nsim)]\n",
    "    tpr    = [None for x in range(nsim)]\n",
    "    ppv    = [None for x in range(nsim)]\n",
    "    fpr    = [None for x in range(nsim)]\n",
    "    valids = [None for x in range(nsim)]\n",
    "    thres  = [None for x in range(nsim)]\n",
    "    for i in range(nsim):\n",
    "        #print(i)\n",
    "        nsel[i], tpr[i], ppv[i], valids[i], thres[i], fpr[i] = roc.confusion_matrix(res[i])\n",
    "    #print(\"Number of thresholds: \", [len(x) for x in thres])\n",
    "    return nsel, tpr, ppv, valids, thres, fpr\n",
    "\n",
    "def avgplot(ax, xx, yy, label, reverse = False, zoom = 1):\n",
    "    nsim = len(xx)\n",
    "    nx = int(2 * np.max([len(x) for x in thres]))\n",
    "    xmax = int(np.max([max(x) for x in xx]) + 0.5)\n",
    "    xvals = np.linspace(0, xmax, nx)\n",
    "    if not reverse:\n",
    "        yest_arr = np.array([np.interp(xvals, xx[i], yy[i]) for i in range(nsim)])\n",
    "    else:\n",
    "        yest_arr = np.array([np.interp(xvals, xx[i][::-1], yy[i][::-1]) for i in range(nsim)])\n",
    "    yest = np.mean(yest_arr, axis = 0)\n",
    "    yerr = np.std (yest_arr, axis = 0)\n",
    "    nplot = int(nx * zoom)\n",
    "    print(nplot)\n",
    "    ax.plot(xvals[:nplot], yest[:nplot], label = label)"
   ]
  },
  {
   "cell_type": "code",
   "execution_count": null,
   "metadata": {},
   "outputs": [],
   "source": [
    "fig = plt.figure(figsize = (16, 16))\n",
    "ax1 = fig.add_subplot(221)\n",
    "ax2 = fig.add_subplot(222)\n",
    "ax3 = fig.add_subplot(223)\n",
    "\n",
    "label = {'tejaas_jpa': 'CPMA', \n",
    "         'tejaas_rrn': 'TEJAAS', \n",
    "         'matrixeqtl': 'MatrixEQTL',\n",
    "         'random_jpa': 'CPMA (shuffled)',\n",
    "         'rand_meqtl': 'MatrixEQTL (shuffled)',\n",
    "         'random_rrn': 'TEJAAS (shuffled)'}\n",
    "\n",
    "for key in whichplot:\n",
    "    print('{:s}:'.format(label[key]))\n",
    "    nsel, tpr, ppv, valids, thres, fpr = get_plotvals(rdata[key])\n",
    "    avgplot(ax1, fpr, tpr, label[key])\n",
    "    avgplot(ax2, thres, tpr, label[key], reverse = True)\n",
    "    avgplot(ax3, nsel, valids, label[key], zoom = 0.2)\n",
    "\n",
    "#ax1.legend()\n",
    "#ax1.set_xlim([0, 200])\n",
    "ax1.legend()\n",
    "ax2.legend()\n",
    "ax3.legend()\n",
    "#ax1.set_xlim([0, 200])\n",
    "plt.tight_layout()\n",
    "#plt.savefig(outfile, bbox_inches='tight')\n",
    "plt.show()"
   ]
  },
  {
   "cell_type": "code",
   "execution_count": null,
   "metadata": {},
   "outputs": [],
   "source": [
    "fpr[0]"
   ]
  },
  {
   "cell_type": "code",
   "execution_count": null,
   "metadata": {},
   "outputs": [],
   "source": [
    "rdata['tejaas_rrn'][0][-5:]"
   ]
  },
  {
   "cell_type": "code",
   "execution_count": null,
   "metadata": {},
   "outputs": [],
   "source": []
  }
 ],
 "metadata": {
  "kernelspec": {
   "display_name": "Python 3",
   "language": "python",
   "name": "python3"
  },
  "language_info": {
   "codemirror_mode": {
    "name": "ipython",
    "version": 3
   },
   "file_extension": ".py",
   "mimetype": "text/x-python",
   "name": "python",
   "nbconvert_exporter": "python",
   "pygments_lexer": "ipython3",
   "version": "3.7.5"
  }
 },
 "nbformat": 4,
 "nbformat_minor": 2
}
