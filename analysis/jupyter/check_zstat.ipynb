{
 "cells": [
  {
   "cell_type": "code",
   "execution_count": 5,
   "metadata": {},
   "outputs": [],
   "source": [
    "# Dataset: datax.txt and datay.txt\n",
    "# Our zstat is -1.60255607\n",
    "# Our fstat is  4.60551192\n",
    "# There are some problems with ctypes, so run them in the folder like this:\n",
    "# python clinreg.py\n",
    "\n",
    "import numpy as np\n",
    "from sklearn import linear_model\n",
    "import statsmodels.api as sm\n",
    "from scipy import stats\n",
    "\n",
    "datax = np.loadtxt(\"datax.txt\").reshape(-1, 1)\n",
    "datay = np.loadtxt(\"datay.txt\").reshape(-1, 1)"
   ]
  },
  {
   "cell_type": "code",
   "execution_count": 6,
   "metadata": {},
   "outputs": [
    {
     "name": "stdout",
     "output_type": "stream",
     "text": [
      "                            OLS Regression Results                            \n",
      "==============================================================================\n",
      "Dep. Variable:                      y   R-squared:                       0.010\n",
      "Model:                            OLS   Adj. R-squared:                  0.008\n",
      "Method:                 Least Squares   F-statistic:                     4.606\n",
      "Date:                Sat, 09 Mar 2019   Prob (F-statistic):             0.0324\n",
      "Time:                        18:12:21   Log-Likelihood:                -636.22\n",
      "No. Observations:                 450   AIC:                             1276.\n",
      "Df Residuals:                     448   BIC:                             1285.\n",
      "Df Model:                           1                                         \n",
      "Covariance Type:            nonrobust                                         \n",
      "==============================================================================\n",
      "                 coef    std err          t      P>|t|      [0.025      0.975]\n",
      "------------------------------------------------------------------------------\n",
      "const         -0.0325      0.049     -0.658      0.511      -0.130       0.065\n",
      "x1            -0.1284      0.060     -2.146      0.032      -0.246      -0.011\n",
      "==============================================================================\n",
      "Omnibus:                        8.250   Durbin-Watson:                   2.099\n",
      "Prob(Omnibus):                  0.016   Jarque-Bera (JB):                8.147\n",
      "Skew:                          -0.308   Prob(JB):                       0.0170\n",
      "Kurtosis:                       3.234   Cond. No.                         1.45\n",
      "==============================================================================\n",
      "\n",
      "Warnings:\n",
      "[1] Standard Errors assume that the covariance matrix of the errors is correctly specified.\n"
     ]
    }
   ],
   "source": [
    "# What Python says.\n",
    "X2 = sm.add_constant(datax)\n",
    "est = sm.OLS(datay, X2)\n",
    "est2 = est.fit()\n",
    "print(est2.summary())"
   ]
  },
  {
   "cell_type": "code",
   "execution_count": 31,
   "metadata": {},
   "outputs": [
    {
     "name": "stdout",
     "output_type": "stream",
     "text": [
      "Coefficients:  [-0.03251996 -0.12840968]\n",
      "Standard erros:  [0.0493868  0.05983548]\n",
      "T-statistic:  [-0.65847475 -2.14604565]\n",
      "P-values:  [0.5105706119654543, 0.03240471398375533]\n"
     ]
    }
   ],
   "source": [
    "lm = linear_model.LinearRegression()\n",
    "lm.fit(datax, datay)\n",
    "params = np.append(lm.intercept_,lm.coef_)\n",
    "predictions = lm.predict(datax)\n",
    "\n",
    "newx = np.append(np.ones((len(datax),1)), datax, axis=1)\n",
    "\n",
    "MSE = np.sum((datay - predictions)**2) / (len(newx)-len(newx[0]))\n",
    "\n",
    "var_b = MSE*(np.linalg.inv(np.dot(newx.T,newx)).diagonal())\n",
    "sd_b = np.sqrt(var_b)\n",
    "ts_b = params / sd_b\n",
    "p_values =[ 2 * (1-stats.t.cdf(np.abs(i),(len(newx)-1))) for i in ts_b]\n",
    "\n",
    "print (\"Coefficients: \", params)\n",
    "print (\"Standard erros: \", sd_b)\n",
    "print (\"T-statistic: \", ts_b)\n",
    "print (\"P-values: \", p_values)"
   ]
  }
 ],
 "metadata": {
  "kernelspec": {
   "display_name": "Python 3",
   "language": "python",
   "name": "python3"
  },
  "language_info": {
   "codemirror_mode": {
    "name": "ipython",
    "version": 3
   },
   "file_extension": ".py",
   "mimetype": "text/x-python",
   "name": "python",
   "nbconvert_exporter": "python",
   "pygments_lexer": "ipython3",
   "version": "3.6.8"
  }
 },
 "nbformat": 4,
 "nbformat_minor": 2
}
