{
 "cells": [
  {
   "cell_type": "code",
   "execution_count": 1,
   "metadata": {},
   "outputs": [],
   "source": [
    "import numpy as np\n",
    "import pygtrie\n",
    "from statsmodels.stats import multitest\n",
    "import collections\n",
    "import os\n",
    "import sys\n",
    "sys.path.append('../../scripts/')\n",
    "\n",
    "import matplotlib.pyplot as plt\n",
    "import mpl_stylesheet\n",
    "mpl_stylesheet.banskt_presentation(fontfamily = 'latex-clearsans', fontsize = 24)"
   ]
  },
  {
   "cell_type": "code",
   "execution_count": 2,
   "metadata": {},
   "outputs": [],
   "source": [
    "def read_tejaas(filename):\n",
    "    rsidlist = list()\n",
    "    pvallist = list()\n",
    "    with open(filename, 'r') as instream:\n",
    "        next(instream)\n",
    "        for line in instream:\n",
    "            linesplit = line.strip().split()\n",
    "            rsid = linesplit[0]\n",
    "            pval = float(linesplit[5])\n",
    "            rsidlist.append(rsid)\n",
    "            pvallist.append(pval)\n",
    "    return rsidlist, pvallist"
   ]
  },
  {
   "cell_type": "code",
   "execution_count": 5,
   "metadata": {},
   "outputs": [],
   "source": [
    "pvals = list()\n",
    "\n",
    "for sim in range(1):\n",
    "    simdir = \"sim{:03d}\".format(sim)\n",
    "    #paramdir = \"15158_450_20_800_30_150_100_0.01_0.0_0.0_1.0_0.6_4.0_0.1_20_0.02\"\n",
    "    #paramdir = \"15158_450_20_800_30_150_100_0.01_0.0_0.0_1.0_0.6_4.0_0.1_20_0.02\"\n",
    "    #paramdir = \"4000_450_20_800_30_150_100_0.01_0.5_0.0_0.5_0.6_4.0_0.1_20_0.02\"\n",
    "    paramdir = \"15611_250_20_800_30_150_100_0.01_0.0_0.0_1.0_0.6_4.0_0.1_5_0.02\"\n",
    "    srcdir = os.path.join('/scratch/sbanerj/trans-eqtl/simulation/', paramdir, simdir)\n",
    "    randfile = os.path.join(srcdir, 'tejaas_rand/permnull_sb0.05/rr.txt')\n",
    "    rrfile = os.path.join(srcdir, 'tejaas/permnull_sb0.05/rr.txt')\n",
    "    \n",
    "    rr_rsids, rr_pvals = read_tejaas(rrfile)\n",
    "    pvals += rr_pvals\n",
    "    \n",
    "pvals = np.array(pvals)\n",
    "select, pcorr = multitest.fdrcorrection(pvals, alpha = 0.005)"
   ]
  },
  {
   "cell_type": "code",
   "execution_count": 6,
   "metadata": {},
   "outputs": [
    {
     "data": {
      "image/png": "[encoded data removed]",
      "text/plain": [
       "<Figure size 432x288 with 1 Axes>"
      ]
     },
     "metadata": {
      "needs_background": "light"
     },
     "output_type": "display_data"
    }
   ],
   "source": [
    "fig = plt.figure()\n",
    "ax1 = fig.add_subplot(111)\n",
    "\n",
    "ax1.hist(pvals)\n",
    "plt.show()"
   ]
  },
  {
   "cell_type": "code",
   "execution_count": 7,
   "metadata": {},
   "outputs": [
    {
     "data": {
      "text/plain": [
       "array([1.16044e-05, 3.88057e-05, 5.97945e-05, 6.21328e-05, 3.88844e-05,\n",
       "       2.17717e-04, 2.15290e-04, 2.02447e-04, 2.34836e-04, 1.72643e-04,\n",
       "       1.39254e-04, 2.25928e-04, 9.37219e-05, 1.22780e-04, 2.12823e-04,\n",
       "       2.38304e-04, 2.02649e-04, 1.67139e-04, 2.69719e-04, 5.38081e-04,\n",
       "       4.17268e-04, 4.28521e-04, 3.25893e-04, 5.37328e-04, 3.18486e-04,\n",
       "       5.26871e-04, 4.08189e-04, 5.32732e-04, 3.62764e-04, 4.13990e-04,\n",
       "       5.06222e-04, 5.40266e-04, 5.47102e-04, 4.78798e-04, 4.36251e-04,\n",
       "       4.05244e-04, 3.79247e-04, 3.51033e-04, 5.64330e-04, 6.69655e-04,\n",
       "       6.53068e-04, 6.24297e-04, 6.54723e-04, 7.20857e-04, 7.48594e-04,\n",
       "       9.15932e-04, 9.17208e-04, 9.05885e-04, 8.70023e-04, 8.69363e-04,\n",
       "       8.77017e-04, 8.75738e-04, 9.84287e-04, 9.71695e-04, 1.02027e-03,\n",
       "       1.01064e-03, 1.08235e-03, 1.08381e-03, 1.06040e-03, 1.10830e-03,\n",
       "       1.22728e-03, 1.23802e-03, 1.24711e-03, 1.25881e-03, 1.29153e-03,\n",
       "       1.30507e-03, 1.34637e-03, 1.43793e-03, 1.47565e-03, 1.52920e-03,\n",
       "       1.60426e-03, 1.60150e-03, 1.69990e-03, 1.70711e-03, 1.77607e-03,\n",
       "       1.82370e-03, 1.80239e-03, 1.81653e-03, 1.85863e-03, 1.91266e-03,\n",
       "       2.26972e-03, 2.15271e-03, 2.37931e-03, 2.33204e-03, 2.37080e-03,\n",
       "       2.06014e-03, 2.27244e-03, 2.24006e-03, 2.11497e-03, 2.21115e-03,\n",
       "       2.18057e-03, 2.07865e-03, 2.36664e-03, 2.36663e-03, 2.10007e-03,\n",
       "       2.22407e-03, 2.40658e-03, 2.49025e-03, 2.55072e-03, 2.76619e-03])"
      ]
     },
     "execution_count": 7,
     "metadata": {},
     "output_type": "execute_result"
    }
   ],
   "source": [
    "pvals[np.argsort(pcorr)][:100]"
   ]
  },
  {
   "cell_type": "code",
   "execution_count": 8,
   "metadata": {},
   "outputs": [
    {
     "data": {
      "text/plain": [
       "(15611,)"
      ]
     },
     "execution_count": 8,
     "metadata": {},
     "output_type": "execute_result"
    }
   ],
   "source": [
    "pvals.shape"
   ]
  },
  {
   "cell_type": "code",
   "execution_count": 11,
   "metadata": {},
   "outputs": [
    {
     "data": {
      "text/plain": [
       "1252"
      ]
     },
     "execution_count": 11,
     "metadata": {},
     "output_type": "execute_result"
    }
   ],
   "source": [
    "np.sum(pvals<0.05)"
   ]
  },
  {
   "cell_type": "code",
   "execution_count": null,
   "metadata": {},
   "outputs": [],
   "source": []
  }
 ],
 "metadata": {
  "kernelspec": {
   "display_name": "Python 3",
   "language": "python",
   "name": "python3"
  },
  "language_info": {
   "codemirror_mode": {
    "name": "ipython",
    "version": 3
   },
   "file_extension": ".py",
   "mimetype": "text/x-python",
   "name": "python",
   "nbconvert_exporter": "python",
   "pygments_lexer": "ipython3",
   "version": "3.6.8"
  }
 },
 "nbformat": 4,
 "nbformat_minor": 2
}
