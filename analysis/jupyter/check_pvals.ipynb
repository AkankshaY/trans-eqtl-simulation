{
 "cells": [
  {
   "cell_type": "code",
   "execution_count": 1,
   "metadata": {},
   "outputs": [],
   "source": [
    "import numpy as np\n",
    "import pygtrie\n",
    "from statsmodels.stats import multitest\n",
    "import collections\n",
    "import os\n",
    "import sys\n",
    "sys.path.append('../../scripts/')\n",
    "\n",
    "import matplotlib.pyplot as plt\n",
    "import mpl_stylesheet\n",
    "mpl_stylesheet.banskt_presentation(fontfamily = 'latex-clearsans', fontsize = 24)"
   ]
  },
  {
   "cell_type": "code",
   "execution_count": 2,
   "metadata": {},
   "outputs": [],
   "source": [
    "def read_tejaas(filename):\n",
    "    rsidlist = list()\n",
    "    pvallist = list()\n",
    "    with open(filename, 'r') as instream:\n",
    "        next(instream)\n",
    "        for line in instream:\n",
    "            linesplit = line.strip().split()\n",
    "            rsid = linesplit[0]\n",
    "            pval = float(linesplit[5])\n",
    "            rsidlist.append(rsid)\n",
    "            pvallist.append(pval)\n",
    "    return rsidlist, pvallist"
   ]
  },
  {
   "cell_type": "code",
   "execution_count": 3,
   "metadata": {},
   "outputs": [],
   "source": [
    "pvals = list()\n",
    "\n",
    "for sim in range(20):\n",
    "    simdir = \"sim{:03d}\".format(sim)\n",
    "    paramdir = \"15158_450_20_800_30_50_100_0.01_0.0_0.0_1.0_0.6_4.0_0.1_5_0.02\"\n",
    "    srcdir = os.path.join('/scratch/sbanerj/trans-eqtl/simulation/', paramdir, simdir)\n",
    "    randfile = os.path.join(srcdir, 'tejaas_rand/permnull_sb0.05/rr.txt')\n",
    "    rrfile = os.path.join(srcdir, 'tejaas/permnull_sb0.05/rr.txt')\n",
    "    \n",
    "    rr_rsids, rr_pvals = read_tejaas(rrfile)\n",
    "    pvals += rr_pvals\n",
    "    \n",
    "pvals = np.array(pvals)\n",
    "select, pcorr = multitest.fdrcorrection(pvals, alpha = 0.005)"
   ]
  },
  {
   "cell_type": "code",
   "execution_count": 4,
   "metadata": {},
   "outputs": [
    {
     "data": {
      "image/png": "[encoded data removed]",
      "text/plain": [
       "<Figure size 432x288 with 1 Axes>"
      ]
     },
     "metadata": {
      "needs_background": "light"
     },
     "output_type": "display_data"
    }
   ],
   "source": [
    "fig = plt.figure()\n",
    "ax1 = fig.add_subplot(111)\n",
    "\n",
    "ax1.hist(pvals)\n",
    "plt.show()"
   ]
  },
  {
   "cell_type": "code",
   "execution_count": null,
   "metadata": {},
   "outputs": [],
   "source": []
  }
 ],
 "metadata": {
  "kernelspec": {
   "display_name": "Python 3",
   "language": "python",
   "name": "python3"
  },
  "language_info": {
   "codemirror_mode": {
    "name": "ipython",
    "version": 3
   },
   "file_extension": ".py",
   "mimetype": "text/x-python",
   "name": "python",
   "nbconvert_exporter": "python",
   "pygments_lexer": "ipython3",
   "version": "3.6.8"
  }
 },
 "nbformat": 4,
 "nbformat_minor": 2
}
