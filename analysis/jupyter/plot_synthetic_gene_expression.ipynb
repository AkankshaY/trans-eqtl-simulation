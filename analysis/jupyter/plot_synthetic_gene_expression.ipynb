{
 "cells": [
  {
   "cell_type": "code",
   "execution_count": 1,
   "metadata": {},
   "outputs": [],
   "source": [
    "import os\n",
    "import numpy as np\n",
    "import sys\n",
    "sys.path.append('../../scripts/')\n",
    "from scipy.interpolate import interp1d\n",
    "\n",
    "import matplotlib.pyplot as plt\n",
    "import mpl_stylesheet\n",
    "mpl_stylesheet.banskt_presentation(fontfamily = 'system', colors = 'kelly')"
   ]
  },
  {
   "cell_type": "code",
   "execution_count": 87,
   "metadata": {},
   "outputs": [],
   "source": [
    "def plot_components_old(ax, data, xmax, xmin, nbin, ninterp, legend, interp = True, ymax = 0.0):\n",
    "    bins = np.linspace(xmin, xmax, nbin)\n",
    "    xbin = [(bins[i] + bins[i+1]) / 2 for i in range(bins.shape[0] - 1)] # centers of the bins\n",
    "    x = np.linspace(xbin[0], xbin[-1], ninterp)\n",
    "    nrow = data.shape[0]\n",
    "    ncol = data.shape[1]\n",
    "    ymaxcal = 0\n",
    "    for i in range(nrow):\n",
    "        yhist, _ = np.histogram(data[i, :], bins = bins)\n",
    "        yfreq = yhist / ncol\n",
    "        if interp:\n",
    "            fy = interp1d(xbin, yfreq, kind='cubic')\n",
    "            y = fy(x)\n",
    "            ax.plot(x, y, alpha = 0.3)\n",
    "            ymaxnew = np.max(y)\n",
    "        else:\n",
    "            ax.plot(xbin, yfreq, alpha = 0.3)\n",
    "            ymaxnew = np.max(yfreq)\n",
    "        if ymaxnew > ymaxcal:\n",
    "            ymaxcal = ymaxnew\n",
    "    if ymax == 0:\n",
    "        ymaxset = round(ymaxcal + 0.05, 1)\n",
    "    else:\n",
    "        ymaxset = ymax\n",
    "    ax.set_ylim([0, ymaxset])\n",
    "    ax.text(0.1, 0.85, legend, horizontalalignment='left', transform=ax.transAxes)\n",
    "    return ymaxset\n",
    "\n",
    "def plot_components_old(ax, data, xmax, xmin, nbin, ninterp, legend, interp = True, ymax = 0.0):\n",
    "    bins = np.linspace(xmin, xmax, nbin)\n",
    "    xbin = [(bins[i] + bins[i+1]) / 2 for i in range(bins.shape[0] - 1)] # centers of the bins\n",
    "    x = np.linspace(xbin[0], xbin[-1], ninterp)\n",
    "    ncol = data.shape[0]\n",
    "    ymaxcal = 0\n",
    "    yhist, _ = np.histogram(data, bins = bins)\n",
    "    yfreq = yhist / ncol\n",
    "    if interp:\n",
    "        fy = interp1d(xbin, yfreq, kind='cubic')\n",
    "        y = fy(x)\n",
    "        ax.plot(x, y, alpha = 0.3)\n",
    "        ymaxnew = np.max(y)\n",
    "    else:\n",
    "        ax.plot(xbin, yfreq, alpha = 0.3)\n",
    "        ymaxnew = np.max(yfreq)\n",
    "    if ymaxnew > ymaxcal:\n",
    "        ymaxcal = ymaxnew\n",
    "    if ymax == 0:\n",
    "        ymaxset = round(ymaxcal + 0.05, 1)\n",
    "    else:\n",
    "        ymaxset = ymax\n",
    "    ax.set_ylim([0, ymaxset])\n",
    "    ax.text(0.1, 0.85, legend, horizontalalignment='left', transform=ax.transAxes)\n",
    "    return ymaxset\n",
    "\n",
    "def plot_components(ax, data, xmax, xmin, nbin, ninterp, legend, interp = True, ymax = 0.0):\n",
    "    #ax.hist(data, bins = nbin, density = True, alpha = 0.3)\n",
    "    bins = np.linspace(xmin, xmax, nbin)\n",
    "    xbin = [(bins[i] + bins[i+1]) / 2 for i in range(bins.shape[0] - 1)] # centers of the bins\n",
    "    x = np.linspace(xbin[0], xbin[-1], ninterp)\n",
    "    ax.hist(data, bins = bins, alpha = 0.3)\n",
    "\n",
    "    ymaxcal = 0\n",
    "    #yhist, _ = np.histogram(data, bins = bins, density = True)\n",
    "    yhist, _ = np.histogram(data, bins = bins)\n",
    "    #yfreq = yhist / data.shape[0]\n",
    "    yfreq = yhist\n",
    "    if interp:\n",
    "        fy = interp1d(xbin, yfreq, kind='cubic')\n",
    "        y = fy(x)\n",
    "        ax.plot(x, y, alpha = 1.0)\n",
    "        ymaxnew = np.max(y)\n",
    "    else:\n",
    "        ax.plot(xbin, yfreq, alpha = 0.3)\n",
    "        ymaxnew = np.max(yfreq)\n",
    "    if ymaxnew > ymaxcal:\n",
    "        ymaxcal = ymaxnew\n",
    "    if ymax == 0:\n",
    "        ymaxset = round(ymaxcal + 0.05, 1)\n",
    "    else:\n",
    "        ymaxset = ymax\n",
    "    ax.set_ylim([0, ymaxset + 10])\n",
    "    #ax.set_xlim([xmin, xmax])\n",
    "    ax.text(0.1, 0.85, legend, horizontalalignment='left', transform=ax.transAxes)\n",
    "    return ymaxset\n",
    "    \n",
    "\n",
    "def read_expression(filename):\n",
    "    # returns G x N gene expression\n",
    "    #         list of N donor ids\n",
    "    #         list of G gene names\n",
    "    gx = list()\n",
    "    genes = list()\n",
    "    with open(filename, 'r') as infile:\n",
    "        header = next(infile)\n",
    "        for line in infile:\n",
    "            linesplit = line.strip().split()\n",
    "            thisgx = np.array([float(x) for x in linesplit[1:]])\n",
    "            gx.append(thisgx)\n",
    "            genes.append(linesplit[0])\n",
    "    gx = np.array(gx)\n",
    "    donors = header.strip().split()[1:]\n",
    "    return gx, donors, genes"
   ]
  },
  {
   "cell_type": "code",
   "execution_count": 3,
   "metadata": {},
   "outputs": [],
   "source": [
    "srcdir = '/scratch/sbanerj/trans-eqtl/simulation/16151_450_10_800_30_150_100_0.01_0.5_0.0_1.0_0.6_4.0_0.1_20_0.02/sim000/input'"
   ]
  },
  {
   "cell_type": "code",
   "execution_count": 4,
   "metadata": {},
   "outputs": [],
   "source": [
    "GX, _, _ = read_expression(os.path.join(srcdir, 'expression.txt'))"
   ]
  },
  {
   "cell_type": "code",
   "execution_count": 95,
   "metadata": {},
   "outputs": [
    {
     "data": {
      "image/png": "[encoded data removed]",
      "text/plain": [
       "<Figure size 576x576 with 1 Axes>"
      ]
     },
     "metadata": {
      "needs_background": "light"
     },
     "output_type": "display_data"
    }
   ],
   "source": [
    "fig = plt.figure(figsize = (8, 8))\n",
    "ax1 = fig.add_subplot(111)\n",
    "\n",
    "nbin = 30\n",
    "ninterp = 100\n",
    "ngene_plot = 12\n",
    "xmax = int(max(abs(np.min(GX[ngene_plot, :])), abs(np.max(GX[ngene_plot, :]))) + 0.5)\n",
    "xmin = -xmax\n",
    "\n",
    "ymax = plot_components(ax1, GX[ngene_plot, :], xmax, xmin, nbin, ninterp, 'GX', interp = True)"
   ]
  },
  {
   "cell_type": "code",
   "execution_count": null,
   "metadata": {},
   "outputs": [],
   "source": []
  }
 ],
 "metadata": {
  "kernelspec": {
   "display_name": "Python 3",
   "language": "python",
   "name": "python3"
  },
  "language_info": {
   "codemirror_mode": {
    "name": "ipython",
    "version": 3
   },
   "file_extension": ".py",
   "mimetype": "text/x-python",
   "name": "python",
   "nbconvert_exporter": "python",
   "pygments_lexer": "ipython3",
   "version": "3.6.8"
  }
 },
 "nbformat": 4,
 "nbformat_minor": 2
}
