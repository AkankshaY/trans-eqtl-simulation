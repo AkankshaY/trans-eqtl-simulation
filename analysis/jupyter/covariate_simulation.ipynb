{
 "cells": [
  {
   "cell_type": "code",
   "execution_count": 2,
   "metadata": {},
   "outputs": [],
   "source": [
    "import numpy as np\n",
    "import sys\n",
    "sys.path.append('../../scripts/')\n",
    "from readvcf import ReadVCF"
   ]
  },
  {
   "cell_type": "code",
   "execution_count": 4,
   "metadata": {},
   "outputs": [],
   "source": [
    "vcffile = '/scratch/sbanerj/trans-eqtl/simulation/16151_450_10_800_30_150_100_0.01_0.5_0.0_1.0_0.6_4.0_0.1_20_0.02/sim000/input/genotype.vcf.gz'\n",
    "readvcf = ReadVCF(vcffile, 0, 16151)\n",
    "GTfull = readvcf.dosage"
   ]
  },
  {
   "cell_type": "code",
   "execution_count": 5,
   "metadata": {},
   "outputs": [
    {
     "data": {
      "text/plain": [
       "(16151, 450)"
      ]
     },
     "execution_count": 5,
     "metadata": {},
     "output_type": "execute_result"
    }
   ],
   "source": [
    "GTfull.shape"
   ]
  },
  {
   "cell_type": "code",
   "execution_count": 18,
   "metadata": {},
   "outputs": [],
   "source": [
    "from sklearn.decomposition import PCA\n",
    "gt_pc = PCA(n_components=3).fit_transform(GTfull.T).T"
   ]
  },
  {
   "cell_type": "code",
   "execution_count": 19,
   "metadata": {},
   "outputs": [
    {
     "data": {
      "text/plain": [
       "(3, 450)"
      ]
     },
     "execution_count": 19,
     "metadata": {},
     "output_type": "execute_result"
    }
   ],
   "source": [
    "gt_pc.shape"
   ]
  },
  {
   "cell_type": "code",
   "execution_count": null,
   "metadata": {},
   "outputs": [],
   "source": [
    "def simulate_confounders(n, s, f, params):\n",
    "    CF = np.zeros((f, s))\n",
    "    beta = np.zeros((n, f))\n",
    "    for i in range(f):\n",
    "        CF[i, :] = np.random.normal(0, 1, size = s)\n",
    "        beta[:, i] = spike_and_slab(params[0], params[1], params[2], size = n)\n",
    "    X = np.einsum('ij, jk', beta, CF)\n",
    "    return X, CF, beta\n",
    "\n",
    "def spike_and_slab(pi, mu, sigma, size=None):\n",
    "    n = size if size is not None else 1\n",
    "    res = np.zeros(n)\n",
    "    for i in range(n):\n",
    "        mrand = np.random.uniform(0, 1)\n",
    "        if mrand <= pi:\n",
    "            res[i] = np.random.normal(mu, sigma)\n",
    "        else:\n",
    "            res[i] = 0\n",
    "    if size is None:\n",
    "        return res[0]\n",
    "    else:\n",
    "        return res\n"
   ]
  },
  {
   "cell_type": "code",
   "execution_count": null,
   "metadata": {},
   "outputs": [],
   "source": [
    "params = [0.5, 0, 0.1]\n",
    "X, CF, beta = simulate_confounders(10000, 350, 0, params)"
   ]
  },
  {
   "cell_type": "code",
   "execution_count": null,
   "metadata": {},
   "outputs": [],
   "source": []
  }
 ],
 "metadata": {
  "kernelspec": {
   "display_name": "Python 3",
   "language": "python",
   "name": "python3"
  },
  "language_info": {
   "codemirror_mode": {
    "name": "ipython",
    "version": 3
   },
   "file_extension": ".py",
   "mimetype": "text/x-python",
   "name": "python",
   "nbconvert_exporter": "python",
   "pygments_lexer": "ipython3",
   "version": "3.6.8"
  }
 },
 "nbformat": 4,
 "nbformat_minor": 2
}
